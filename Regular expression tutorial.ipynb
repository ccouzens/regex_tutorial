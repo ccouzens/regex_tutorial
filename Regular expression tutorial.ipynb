{
 "cells": [
  {
   "cell_type": "markdown",
   "metadata": {},
   "source": [
    "# Regular Expression Tutorial\n",
    "\n",
    "## What are they good for?\n",
    "\n",
    "Most things standard searching is good for, plus more!\n",
    "\n",
    "### Finding lines in a file\n",
    "\n",
    "Here I've used a regular expression to search for counties which are shires."
   ]
  },
  {
   "cell_type": "code",
   "execution_count": null,
   "metadata": {},
   "outputs": [],
   "source": [
    "import re\n",
    "counties = open(\"counties.txt\").read().splitlines()\n",
    "print(counties)\n",
    "shires = [county for county in counties if re.search(\"shire\", county)]\n",
    "print(shires)"
   ]
  },
  {
   "cell_type": "code",
   "execution_count": null,
   "metadata": {},
   "outputs": [],
   "source": []
  }
 ],
 "metadata": {
  "kernelspec": {
   "display_name": "Python 3",
   "language": "python",
   "name": "python3"
  },
  "language_info": {
   "codemirror_mode": {
    "name": "ipython",
    "version": 3
   },
   "file_extension": ".py",
   "mimetype": "text/x-python",
   "name": "python",
   "nbconvert_exporter": "python",
   "pygments_lexer": "ipython3",
   "version": "3.6.5"
  }
 },
 "nbformat": 4,
 "nbformat_minor": 2
}
