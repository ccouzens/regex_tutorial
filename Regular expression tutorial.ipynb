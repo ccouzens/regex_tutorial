{
 "cells": [
  {
   "cell_type": "markdown",
   "metadata": {},
   "source": [
    "# Regular Expression Tutorial\n",
    "\n",
    "## What are they good for?\n",
    "\n",
    "Most things standard searching is good for, plus more!\n",
    "\n",
    "### Finding lines in a file\n",
    "\n",
    "Here I've used a regular expression to search for counties which are shires."
   ]
  },
  {
   "cell_type": "code",
   "execution_count": 1,
   "metadata": {},
   "outputs": [
    {
     "name": "stdout",
     "output_type": "stream",
     "text": [
      "['Bedfordshire', 'Berkshire', 'Bristol', 'Buckinghamshire', 'Cambridgeshire', 'Cheshire', 'City of London', 'Cornwall', 'Cumbria', 'Derbyshire', 'Devon', 'Dorset', 'Durham', 'East Riding of Yorkshire', 'East Sussex', 'Essex', 'Gloucestershire', 'Greater London', 'Greater Manchester', 'Hampshire', 'Herefordshire', 'Hertfordshire', 'Isle of Wight', 'Kent', 'Lancashire', 'Leicestershire', 'Lincolnshire', 'Merseyside', 'Norfolk', 'North Yorkshire', 'Northamptonshire', 'Northumberland', 'Nottinghamshire', 'Oxfordshire', 'Rutland', 'Shropshire', 'Somerset', 'South Yorkshire', 'Staffordshire', 'Suffolk', 'Surrey', 'Tyne and Wear', 'Warwickshire', 'West Midlands', 'West Sussex', 'West Yorkshire', 'Wiltshire', 'Worcestershire']\n",
      "['Bedfordshire', 'Berkshire', 'Buckinghamshire', 'Cambridgeshire', 'Cheshire', 'Derbyshire', 'East Riding of Yorkshire', 'Gloucestershire', 'Hampshire', 'Herefordshire', 'Hertfordshire', 'Lancashire', 'Leicestershire', 'Lincolnshire', 'North Yorkshire', 'Northamptonshire', 'Nottinghamshire', 'Oxfordshire', 'Shropshire', 'South Yorkshire', 'Staffordshire', 'Warwickshire', 'West Yorkshire', 'Wiltshire', 'Worcestershire']\n"
     ]
    }
   ],
   "source": [
    "import re\n",
    "counties = open(\"counties.txt\").read().splitlines()\n",
    "print(counties)\n",
    "shires = [county for county in counties if re.search(\"shire\", county)]\n",
    "print(shires)"
   ]
  },
  {
   "cell_type": "markdown",
   "metadata": {},
   "source": [
    "### Advanced search and replace\n",
    "\n",
    "Here I'm adding a comment character to the beginning of all my lines.\n",
    "\n",
    "![searching for: ^ Replacing with //](https://raw.githubusercontent.com/ccouzens/regex_tutorial/master/advanced%20replace%20add%20comments.png)\n",
    "\n",
    "### Finding strings that conform\n",
    "\n",
    "Here I've written a naive Python function that checks to see if an\n",
    "affirmative word is in the input text."
   ]
  },
  {
   "cell_type": "code",
   "execution_count": 2,
   "metadata": {},
   "outputs": [
    {
     "name": "stdout",
     "output_type": "stream",
     "text": [
      "False\n",
      "True\n"
     ]
    }
   ],
   "source": [
    "import re\n",
    "\n",
    "def affirmation(text):\n",
    "    return re.search(\"yes|yarp|yeah|ok|affirmative\", text) is not None\n",
    "\n",
    "print(affirmation(\"no\"))\n",
    "print(affirmation(\"yarp\"))"
   ]
  },
  {
   "cell_type": "markdown",
   "metadata": {},
   "source": [
    "### Finding strings that don't conform\n",
    "\n",
    "Here I've written a Python function that checks your telephone number does\n",
    "not contain letters."
   ]
  },
  {
   "cell_type": "code",
   "execution_count": 3,
   "metadata": {},
   "outputs": [
    {
     "name": "stdout",
     "output_type": "stream",
     "text": [
      "True\n",
      "False\n"
     ]
    }
   ],
   "source": [
    "import re\n",
    "\n",
    "def is_telephone_number(text):\n",
    "    # Telephone numbers cannot contain letter\n",
    "    return re.search('[A-z]', text) is None\n",
    "\n",
    "print(is_telephone_number('01252 123 456'))\n",
    "print(is_telephone_number('01252 foo'))"
   ]
  },
  {
   "cell_type": "markdown",
   "metadata": {},
   "source": [
    "### Extracting information from text\n",
    "\n",
    "Here I've written a Python function that extracts the date of birth from a\n",
    "complex string about a person."
   ]
  },
  {
   "cell_type": "code",
   "execution_count": 4,
   "metadata": {},
   "outputs": [
    {
     "name": "stdout",
     "output_type": "stream",
     "text": [
      "14/04/1978\n"
     ]
    }
   ],
   "source": [
    "import re\n",
    "\n",
    "def date_of_birth(text):\n",
    "    matches = re.search(\"DOB: ([0-9/]+)\", text)\n",
    "    return matches[1]\n",
    "\n",
    "einstein = \"Name: Albert Einstein, Nationality: American, Weimar, Swiss, Prussian, DOB: 14/04/1978, Died: 14/03/1955\"\n",
    "print(date_of_birth(einstein))"
   ]
  },
  {
   "cell_type": "markdown",
   "metadata": {},
   "source": [
    "As you can see, regular expressions can be used to perform a variety of\n",
    "different functions, and can be used in a variety of different contexts.\n",
    "\n",
    "## Limitations\n",
    "\n",
    "Regular expression implementations vary.\n",
    "The basic syntax can be expected to be well supported in all instances.\n",
    "Advanced features may not always be present, or may work slightly differently.\n",
    "\n",
    "Some problems can't be determined by a regular expression.\n",
    "For example, we can't write a regular expression to determine if a string has matching open and close brackets.\n",
    "\n",
    "```\n",
    "# Can't be determined by a regular expression!\n",
    "(((()))) # good\n",
    "(((())) # bad\n",
    "```\n",
    "\n",
    "For more information, please study the computer science topic [automata](https://en.wikipedia.org/wiki/Regular_language#Location_in_the_Chomsky_hierarchy).\n",
    "\n",
    "The tooling you're using may force you to use regular expressions in a particular way.\n",
    "For example it may want you to provide a regular expression that matches positive input.\n",
    "But it may be more convenient to write a regular expression that matches negative input.\n",
    "\n",
    "## Writing/Reading Regular Expressions\n",
    "\n",
    "Mozilla have a good\n",
    "[reference](https://developer.mozilla.org/en-US/docs/Web/JavaScript/Guide/Regular_Expressions#Writing_a_regular_expression_pattern).\n",
    "\n",
    "### Simple patterns\n",
    "\n",
    "If you want search for an exact match, simple use what you're searching for as\n",
    "the regular expression.\n",
    "\n",
    "Here we're searching for counties that contain \"York\".\n"
   ]
  },
  {
   "cell_type": "code",
   "execution_count": 5,
   "metadata": {},
   "outputs": [
    {
     "name": "stdout",
     "output_type": "stream",
     "text": [
      "['East Riding of Yorkshire', 'North Yorkshire', 'South Yorkshire', 'West Yorkshire']\n"
     ]
    }
   ],
   "source": [
    "import re\n",
    "counties = open(\"counties.txt\").read().splitlines()\n",
    "yorks = [county for county in counties if re.search(\"York\", county)]\n",
    "print(yorks)"
   ]
  },
  {
   "cell_type": "markdown",
   "metadata": {},
   "source": [
    "However, if your search has any of these characters:\n",
    "`\\^$[](){}*+.?`\n",
    "then you need to escape them.\n",
    "These are known as special characters, because they have extra meaning.\n",
    "We'll cover them later.\n",
    "\n",
    "### Escaping special characters\n",
    "\n",
    "If you want to match a special character, you need to prepend a `\\` (back\n",
    "slash).\n",
    "\n",
    "For example, if you want to search for `(text)` in this document, your regular\n",
    "expression would be `\\(text\\)`.\n",
    "\n",
    "Or if you want to search for file paths that match a Windows `C:\\` drive, your\n",
    "regular expression would be `C:\\\\`.\n",
    "The backslash is escaped with a backslash!\n",
    "\n",
    "Here we have an example of escaping the dollar character:"
   ]
  },
  {
   "cell_type": "code",
   "execution_count": 6,
   "metadata": {},
   "outputs": [
    {
     "name": "stdout",
     "output_type": "stream",
     "text": [
      "True\n",
      "False\n"
     ]
    }
   ],
   "source": [
    "import re\n",
    "\n",
    "def contains_dollars(message):\n",
    "    return re.search(\"\\$\", message) is not None\n",
    "\n",
    "print(contains_dollars(\"invoice for $20\"))\n",
    "print(contains_dollars(\"receipt for £20\"))"
   ]
  },
  {
   "cell_type": "markdown",
   "metadata": {},
   "source": [
    "### Matching at the start of a line\n",
    "\n",
    "You can 'anchor' your regular expression to the start of a line by using the\n",
    "`^` character."
   ]
  },
  {
   "cell_type": "code",
   "execution_count": 7,
   "metadata": {},
   "outputs": [
    {
     "name": "stdout",
     "output_type": "stream",
     "text": [
      "False\n",
      "True\n"
     ]
    }
   ],
   "source": [
    "import re\n",
    "\n",
    "def starts_with_cake(text):\n",
    "    return re.search(\"^cake\", text) is not None\n",
    "\n",
    "print(starts_with_cake(\"teacake\"))\n",
    "print(starts_with_cake(\"cakewalk\"))"
   ]
  },
  {
   "cell_type": "markdown",
   "metadata": {},
   "source": [
    "### Matching at the end of a line\n",
    "\n",
    "You can 'anchor' your regular expression to the end of a line by using the\n",
    "`$` character."
   ]
  },
  {
   "cell_type": "code",
   "execution_count": 8,
   "metadata": {},
   "outputs": [
    {
     "name": "stdout",
     "output_type": "stream",
     "text": [
      "True\n",
      "False\n"
     ]
    }
   ],
   "source": [
    "import re\n",
    "\n",
    "def ends_with_cake(text):\n",
    "    return re.search(\"cake$\", text) is not None\n",
    "\n",
    "print(ends_with_cake(\"spongecake\"))\n",
    "print(ends_with_cake(\"cakehouse\"))"
   ]
  },
  {
   "cell_type": "markdown",
   "metadata": {},
   "source": [
    "We can combine searching at the beginning and end of a line into a single regular expression."
   ]
  },
  {
   "cell_type": "code",
   "execution_count": 9,
   "metadata": {},
   "outputs": [
    {
     "name": "stdout",
     "output_type": "stream",
     "text": [
      "False\n",
      "True\n"
     ]
    }
   ],
   "source": [
    "import re\n",
    "\n",
    "def is_cake(text):\n",
    "    return re.search(\"^cake$\", text) is not None\n",
    "\n",
    "print(is_cake(\"coffeecake\"))\n",
    "print(is_cake(\"cake\"))"
   ]
  },
  {
   "cell_type": "markdown",
   "metadata": {},
   "source": [
    "### Matching multiple options\n",
    "\n",
    "You can use allow multiple options by using the `|` or pipe character."
   ]
  },
  {
   "cell_type": "code",
   "execution_count": 10,
   "metadata": {},
   "outputs": [
    {
     "name": "stdout",
     "output_type": "stream",
     "text": [
      "['Buckinghamshire', 'Durham', 'Merseyside', 'Northamptonshire', 'Nottinghamshire']\n"
     ]
    }
   ],
   "source": [
    "import re\n",
    "counties = open(\"counties.txt\").read().splitlines()\n",
    "sides_and_hams = [county for county in counties if re.search(\"side|ham\", county)]\n",
    "print(sides_and_hams)"
   ]
  },
  {
   "cell_type": "markdown",
   "metadata": {},
   "source": [
    "We can use brackets (non matching parentheses) if we want to have only some of the expression multiple choice."
   ]
  },
  {
   "cell_type": "code",
   "execution_count": 11,
   "metadata": {},
   "outputs": [
    {
     "name": "stdout",
     "output_type": "stream",
     "text": [
      "['Berkshire', 'Hampshire']\n"
     ]
    }
   ],
   "source": [
    "import re\n",
    "counties = open(\"counties.txt\").read().splitlines()\n",
    "berkshire_and_hampshire = [county for county in counties if re.search(\"(?:Berk|Hamp)shire\", county)]\n",
    "print(berkshire_and_hampshire)"
   ]
  },
  {
   "cell_type": "markdown",
   "metadata": {},
   "source": [
    "We can combine 2 groups of multiple choice at the same time."
   ]
  },
  {
   "cell_type": "code",
   "execution_count": 12,
   "metadata": {},
   "outputs": [
    {
     "name": "stdout",
     "output_type": "stream",
     "text": [
      "['Cumbria', 'Gloucestershire', 'Greater London', 'Greater Manchester', 'Leicestershire', 'South Yorkshire', 'Tyne and Wear']\n"
     ]
    }
   ],
   "source": [
    "import re\n",
    "counties = open(\"counties.txt\").read().splitlines()\n",
    "double_vowel_counties = [county for county in counties if re.search(\"(?:a|e|i|o|u)(?:a|e|i|o|u)\", county)]\n",
    "print(double_vowel_counties)"
   ]
  },
  {
   "cell_type": "markdown",
   "metadata": {},
   "source": [
    "### Repeating ourselves\n",
    "\n",
    "Regular expressions give us several ways of expressing the previous example\n",
    "without the repetition.\n",
    "\n",
    "The following are all equivalent:\n",
    "\n",
    "```\n",
    "(?:a|e|i|o|u)(?:a|e|i|o|u)\n",
    "(?:a|e|i|o|u){2}\n",
    "(?:a|e|i|o|u){2,2}\n",
    "```\n",
    "\n",
    "They all match vowels immediately after each other.\n",
    "\n",
    "More specifically, `{n}` matches the previous expression precisely n times.\n",
    "`{n, m}` matches the previous expression between n and m times.\n"
   ]
  },
  {
   "cell_type": "code",
   "execution_count": 13,
   "metadata": {},
   "outputs": [
    {
     "name": "stdout",
     "output_type": "stream",
     "text": [
      "['Cumbria', 'Gloucestershire', 'Greater London', 'Greater Manchester', 'Leicestershire', 'South Yorkshire', 'Tyne and Wear']\n"
     ]
    }
   ],
   "source": [
    "import re\n",
    "counties = open(\"counties.txt\").read().splitlines()\n",
    "double_vowel_counties = [county for county in counties if re.search(\"(?:a|e|i|o|u){2}\", county)]\n",
    "print(double_vowel_counties)"
   ]
  },
  {
   "cell_type": "markdown",
   "metadata": {},
   "source": [
    "### Repeating ourselves indefinitely\n",
    "\n",
    "We can use `{n,}` to repeat ourselves n or more times."
   ]
  },
  {
   "cell_type": "code",
   "execution_count": 14,
   "metadata": {},
   "outputs": [
    {
     "name": "stdout",
     "output_type": "stream",
     "text": [
      "['Bedfordshire', 'Berkshire', 'Buckinghamshire']\n"
     ]
    }
   ],
   "source": [
    "import re\n",
    "counties = open(\"counties.txt\").read().splitlines()\n",
    "pattern = \"^B(?:a|b|c|d|e|f|g|h|i|j|k|l|m|n|o|p|q|r|s|t|u|v|w|x|y|z){8,}$\"\n",
    "long_b_counties = [county for county in counties if re.search(pattern, county)]\n",
    "print(long_b_counties)"
   ]
  },
  {
   "cell_type": "markdown",
   "metadata": {},
   "source": [
    "The shortcut for `{1,}` is `+`.\n",
    "The shortcut for `{0,}` is `*`.\n",
    "\n",
    "### Characer sets\n",
    "\n",
    "We can use square brackets to quickly list out a lot of single characters at once.\n",
    "\n",
    "The previous example can be rewritten to use it."
   ]
  },
  {
   "cell_type": "code",
   "execution_count": 15,
   "metadata": {},
   "outputs": [
    {
     "name": "stdout",
     "output_type": "stream",
     "text": [
      "['Bedfordshire', 'Berkshire', 'Buckinghamshire']\n"
     ]
    }
   ],
   "source": [
    "import re\n",
    "counties = open(\"counties.txt\").read().splitlines()\n",
    "pattern = \"^B[abcdefghijklmnopqrstuvwxyz]{8,}$\"\n",
    "long_b_counties = [county for county in counties if re.search(pattern, county)]\n",
    "print(long_b_counties)"
   ]
  },
  {
   "cell_type": "markdown",
   "metadata": {},
   "source": [
    "Within a character set, the following characters are special `]-\\^`.\n",
    "\n",
    "Dashes can be used to specify a range of characters."
   ]
  },
  {
   "cell_type": "code",
   "execution_count": 16,
   "metadata": {},
   "outputs": [
    {
     "name": "stdout",
     "output_type": "stream",
     "text": [
      "['Bedfordshire', 'Berkshire', 'Buckinghamshire']\n"
     ]
    }
   ],
   "source": [
    "import re\n",
    "counties = open(\"counties.txt\").read().splitlines()\n",
    "pattern = \"^B[a-z]{8,}$\"\n",
    "long_b_counties = [county for county in counties if re.search(pattern, county)]\n",
    "print(long_b_counties)"
   ]
  },
  {
   "cell_type": "markdown",
   "metadata": {},
   "source": [
    "### Negated character sets\n",
    "\n",
    "We can use a caret `^` to negate a character set."
   ]
  },
  {
   "cell_type": "code",
   "execution_count": 17,
   "metadata": {},
   "outputs": [
    {
     "name": "stdout",
     "output_type": "stream",
     "text": [
      "['Isle of Wight', 'Kent', 'Merseyside', 'Oxfordshire', 'Rutland', 'Tyne and Wear']\n"
     ]
    }
   ],
   "source": [
    "import re\n",
    "counties = open(\"counties.txt\").read().splitlines()\n",
    "pattern = \"^[^BCDEGHLNSW]\"\n",
    "uncommon_starts = [county for county in counties if re.search(pattern, county)]\n",
    "print(uncommon_starts)"
   ]
  },
  {
   "cell_type": "markdown",
   "metadata": {},
   "source": [
    "### Common character sets\n",
    "\n",
    "There are shortcuts for common character sets.\n",
    "\n",
    "```\n",
    "\\d = [0-9] Matches digits\n",
    "\\D = [^0-9] Matches non digits\n",
    "\\s Matches white space such as space, tab and new lines\n",
    "\\S = [^\\s] Matches any charachter that isn't white space\n",
    "\\w = [A-Za-z0-9_] Matches alpha numeric characters and underscore\n",
    "\\W = [^w] Matches anything but alpha numeric characters or underscore\n",
    ". Matches everything\n",
    "```\n",
    "\n",
    "## Further reading\n",
    "\n",
    "I've covered the basic parts of regular expressions.\n",
    "Please see various documentation for more advanced features.\n",
    "\n",
    "Microsoft .net regular expression syntax https://docs.microsoft.com/en-us/dotnet/standard/base-types/regular-expression-language-quick-reference?view=netframework-4.7.2\n",
    "\n",
    "Python regular expression syntax https://docs.python.org/3/library/re.html#regular-expression-syntax\n",
    "\n",
    "Javascript regular expression syntax https://developer.mozilla.org/en-US/docs/Web/JavaScript/Guide/Regular_Expressions#Writing_a_regular_expression_pattern\n",
    "\n",
    "## Questions\n",
    "\n",
    "## Exercises\n",
    "\n",
    "### IP address extraction\n",
    "\n",
    "Modify the pattern below to search for IP addresses."
   ]
  },
  {
   "cell_type": "code",
   "execution_count": 23,
   "metadata": {},
   "outputs": [
    {
     "name": "stdout",
     "output_type": "stream",
     "text": [
      "##\n",
      "# Host File\n",
      "#\n",
      "# example file to use for IP addresses\n",
      "##\n",
      "127.0.0.1\tlocalhost localapp\n",
      "::1             localhost\n",
      "10.100.7.3  myserver3.mynetwork\n",
      "10.20.127.200  testserver8.testnetwork\n",
      "\n",
      "['localhost', 'localapp', 'localhost']\n"
     ]
    }
   ],
   "source": [
    "import re\n",
    "hosts = open(\"hosts\").read()\n",
    "print(hosts)\n",
    "pattern = \"local\\w+\"\n",
    "matches = re.findall(pattern, hosts)\n",
    "print(matches)"
   ]
  }
 ],
 "metadata": {
  "kernelspec": {
   "display_name": "Python 3",
   "language": "python",
   "name": "python3"
  },
  "language_info": {
   "codemirror_mode": {
    "name": "ipython",
    "version": 3
   },
   "file_extension": ".py",
   "mimetype": "text/x-python",
   "name": "python",
   "nbconvert_exporter": "python",
   "pygments_lexer": "ipython3",
   "version": "3.6.5"
  }
 },
 "nbformat": 4,
 "nbformat_minor": 2
}
